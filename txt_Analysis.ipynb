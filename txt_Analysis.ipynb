{
 "cells": [
  {
   "cell_type": "code",
   "execution_count": 39,
   "id": "cde65fdb-e2ed-4a21-86ab-ea06985101e9",
   "metadata": {},
   "outputs": [
    {
     "name": "stdout",
     "output_type": "stream",
     "text": [
      "Tokens: ['SpaceX', 'is', 'an', 'American', 'aerospace', 'manufacturer', 'and', 'space', 'transportation', 'company', 'founded', 'by', 'Elon', 'Musk', 'in', '2002', '.', 'Its', 'goal', 'is', 'to', 'reduce', 'space', 'transportation', 'costs', 'and', 'enable', 'the', 'colonization', 'of', 'Mars', '.', 'SpaceX', 'has', 'achieved', 'significant', 'milestones', 'with', 'its', 'reusable', 'rocket', 'technology', ',', 'making', 'space', 'missions', 'more', 'affordable', 'and', 'sustainable', '.', 'Famous', 'Projects', ':', 'Falcon', '1', ':', 'The', 'first', 'privately', 'developed', 'liquid-fueled', 'rocket', 'to', 'reach', 'orbit', '.', 'Falcon', '9', ':', 'A', 'reusable', 'rocket', 'designed', 'to', 'transport', 'satellites', ',', 'cargo', ',', 'and', 'crew', 'to', 'the', 'International', 'Space', 'Station', '(', 'ISS', ')', '.', 'Known', 'for', 'landing', 'its', 'first', 'stage', 'back', 'on', 'Earth', 'after', 'launching', '.', 'Dragon', ':', 'A', 'spacecraft', 'that', 'delivers', 'cargo', 'to', 'the', 'ISS', ',', 'with', 'a', 'version', 'designed', 'to', 'carry', 'crew', 'as', 'well', '(', 'Crew', 'Dragon', ')', '.', 'Starship', ':', 'A', 'fully', 'reusable', 'spacecraft', 'designed', 'for', 'missions', 'to', 'the', 'Moon', ',', 'Mars', ',', 'and', 'beyond', '.', 'It', \"'s\", 'intended', 'to', 'be', 'the', 'largest', 'and', 'most', 'powerful', 'rocket', 'ever', 'built', '.', 'Upcoming', 'Projects', ':', 'Starship', 'Mars', 'Mission', ':', 'SpaceX', \"'s\", 'goal', 'to', 'transport', 'humans', 'to', 'Mars', ',', 'paving', 'the', 'way', 'for', 'interplanetary', 'colonization', '.', 'Starlink', ':', 'A', 'satellite', 'constellation', 'providing', 'global', 'internet', 'coverage', ',', 'especially', 'in', 'remote', 'areas', '.', 'Lunar', 'Gateway', ':', 'SpaceX', 'is', 'a', 'key', 'partner', 'in', 'NASA', \"'s\", 'Artemis', 'program', 'to', 'land', 'humans', 'on', 'the', 'Moon', 'by', '2024', 'using', 'the', 'Starship']\n"
     ]
    },
    {
     "name": "stderr",
     "output_type": "stream",
     "text": [
      "[nltk_data] Downloading package punkt to\n",
      "[nltk_data]     C:\\Users\\ASUS\\AppData\\Roaming\\nltk_data...\n",
      "[nltk_data]   Package punkt is already up-to-date!\n",
      "[nltk_data] Downloading package stopwords to\n",
      "[nltk_data]     C:\\Users\\ASUS\\AppData\\Roaming\\nltk_data...\n",
      "[nltk_data]   Package stopwords is already up-to-date!\n",
      "[nltk_data] Downloading package averaged_perceptron_tagger to\n",
      "[nltk_data]     C:\\Users\\ASUS\\AppData\\Roaming\\nltk_data...\n",
      "[nltk_data]   Package averaged_perceptron_tagger is already up-to-\n",
      "[nltk_data]       date!\n",
      "[nltk_data] Downloading package wordnet to\n",
      "[nltk_data]     C:\\Users\\ASUS\\AppData\\Roaming\\nltk_data...\n",
      "[nltk_data]   Package wordnet is already up-to-date!\n"
     ]
    },
    {
     "ename": "LookupError",
     "evalue": "\n**********************************************************************\n  Resource \u001b[93maveraged_perceptron_tagger_eng\u001b[0m not found.\n  Please use the NLTK Downloader to obtain the resource:\n\n  \u001b[31m>>> import nltk\n  >>> nltk.download('averaged_perceptron_tagger_eng')\n  \u001b[0m\n  For more information see: https://www.nltk.org/data.html\n\n  Attempted to load \u001b[93mtaggers/averaged_perceptron_tagger_eng/\u001b[0m\n\n  Searched in:\n    - 'C:\\\\Users\\\\ASUS/nltk_data'\n    - 'C:\\\\Users\\\\ASUS\\\\anaconda3\\\\nltk_data'\n    - 'C:\\\\Users\\\\ASUS\\\\anaconda3\\\\share\\\\nltk_data'\n    - 'C:\\\\Users\\\\ASUS\\\\anaconda3\\\\lib\\\\nltk_data'\n    - 'C:\\\\Users\\\\ASUS\\\\AppData\\\\Roaming\\\\nltk_data'\n    - 'C:\\\\nltk_data'\n    - 'D:\\\\nltk_data'\n    - 'E:\\\\nltk_data'\n**********************************************************************\n",
     "output_type": "error",
     "traceback": [
      "\u001b[1;31m---------------------------------------------------------------------------\u001b[0m",
      "\u001b[1;31mLookupError\u001b[0m                               Traceback (most recent call last)",
      "Cell \u001b[1;32mIn[39], line 28\u001b[0m\n\u001b[0;32m     24\u001b[0m \u001b[38;5;28mprint\u001b[39m(\u001b[38;5;124m\"\u001b[39m\u001b[38;5;124mTokens:\u001b[39m\u001b[38;5;124m\"\u001b[39m, tokens)  \u001b[38;5;66;03m# Print the list of tokens (individual words)\u001b[39;00m\n\u001b[0;32m     26\u001b[0m \u001b[38;5;66;03m# Step 3: POS Tagging\u001b[39;00m\n\u001b[0;32m     27\u001b[0m \u001b[38;5;66;03m# POS tagging labels each token with its part of speech (e.g., noun, verb, etc.)\u001b[39;00m\n\u001b[1;32m---> 28\u001b[0m pos_tags \u001b[38;5;241m=\u001b[39m nltk\u001b[38;5;241m.\u001b[39mpos_tag(tokens)  \u001b[38;5;66;03m# Get the part of speech tags for each token\u001b[39;00m\n\u001b[0;32m     29\u001b[0m \u001b[38;5;28mprint\u001b[39m(\u001b[38;5;124m\"\u001b[39m\u001b[38;5;124mPOS Tags:\u001b[39m\u001b[38;5;124m\"\u001b[39m, pos_tags)  \u001b[38;5;66;03m# Print each token with its POS tag\u001b[39;00m\n\u001b[0;32m     31\u001b[0m \u001b[38;5;66;03m# Step 4: Stop Words Removal\u001b[39;00m\n\u001b[0;32m     32\u001b[0m \u001b[38;5;66;03m# Stop words are common words like 'the', 'is', 'in', which do not carry meaningful information\u001b[39;00m\n",
      "File \u001b[1;32m~\\anaconda3\\Lib\\site-packages\\nltk\\tag\\__init__.py:168\u001b[0m, in \u001b[0;36mpos_tag\u001b[1;34m(tokens, tagset, lang)\u001b[0m\n\u001b[0;32m    143\u001b[0m \u001b[38;5;28;01mdef\u001b[39;00m \u001b[38;5;21mpos_tag\u001b[39m(tokens, tagset\u001b[38;5;241m=\u001b[39m\u001b[38;5;28;01mNone\u001b[39;00m, lang\u001b[38;5;241m=\u001b[39m\u001b[38;5;124m\"\u001b[39m\u001b[38;5;124meng\u001b[39m\u001b[38;5;124m\"\u001b[39m):\n\u001b[0;32m    144\u001b[0m \u001b[38;5;250m    \u001b[39m\u001b[38;5;124;03m\"\"\"\u001b[39;00m\n\u001b[0;32m    145\u001b[0m \u001b[38;5;124;03m    Use NLTK's currently recommended part of speech tagger to\u001b[39;00m\n\u001b[0;32m    146\u001b[0m \u001b[38;5;124;03m    tag the given list of tokens.\u001b[39;00m\n\u001b[1;32m   (...)\u001b[0m\n\u001b[0;32m    166\u001b[0m \u001b[38;5;124;03m    :rtype: list(tuple(str, str))\u001b[39;00m\n\u001b[0;32m    167\u001b[0m \u001b[38;5;124;03m    \"\"\"\u001b[39;00m\n\u001b[1;32m--> 168\u001b[0m     tagger \u001b[38;5;241m=\u001b[39m _get_tagger(lang)\n\u001b[0;32m    169\u001b[0m     \u001b[38;5;28;01mreturn\u001b[39;00m _pos_tag(tokens, tagset, tagger, lang)\n",
      "File \u001b[1;32m~\\anaconda3\\Lib\\site-packages\\nltk\\tag\\__init__.py:110\u001b[0m, in \u001b[0;36m_get_tagger\u001b[1;34m(lang)\u001b[0m\n\u001b[0;32m    108\u001b[0m     tagger \u001b[38;5;241m=\u001b[39m PerceptronTagger(lang\u001b[38;5;241m=\u001b[39mlang)\n\u001b[0;32m    109\u001b[0m \u001b[38;5;28;01melse\u001b[39;00m:\n\u001b[1;32m--> 110\u001b[0m     tagger \u001b[38;5;241m=\u001b[39m PerceptronTagger()\n\u001b[0;32m    111\u001b[0m \u001b[38;5;28;01mreturn\u001b[39;00m tagger\n",
      "File \u001b[1;32m~\\anaconda3\\Lib\\site-packages\\nltk\\tag\\perceptron.py:183\u001b[0m, in \u001b[0;36mPerceptronTagger.__init__\u001b[1;34m(self, load, lang)\u001b[0m\n\u001b[0;32m    181\u001b[0m \u001b[38;5;28mself\u001b[39m\u001b[38;5;241m.\u001b[39mclasses \u001b[38;5;241m=\u001b[39m \u001b[38;5;28mset\u001b[39m()\n\u001b[0;32m    182\u001b[0m \u001b[38;5;28;01mif\u001b[39;00m load:\n\u001b[1;32m--> 183\u001b[0m     \u001b[38;5;28mself\u001b[39m\u001b[38;5;241m.\u001b[39mload_from_json(lang)\n",
      "File \u001b[1;32m~\\anaconda3\\Lib\\site-packages\\nltk\\tag\\perceptron.py:273\u001b[0m, in \u001b[0;36mPerceptronTagger.load_from_json\u001b[1;34m(self, lang)\u001b[0m\n\u001b[0;32m    271\u001b[0m \u001b[38;5;28;01mdef\u001b[39;00m \u001b[38;5;21mload_from_json\u001b[39m(\u001b[38;5;28mself\u001b[39m, lang\u001b[38;5;241m=\u001b[39m\u001b[38;5;124m\"\u001b[39m\u001b[38;5;124meng\u001b[39m\u001b[38;5;124m\"\u001b[39m):\n\u001b[0;32m    272\u001b[0m     \u001b[38;5;66;03m# Automatically find path to the tagger if location is not specified.\u001b[39;00m\n\u001b[1;32m--> 273\u001b[0m     loc \u001b[38;5;241m=\u001b[39m find(\u001b[38;5;124mf\u001b[39m\u001b[38;5;124m\"\u001b[39m\u001b[38;5;124mtaggers/averaged_perceptron_tagger_\u001b[39m\u001b[38;5;132;01m{\u001b[39;00mlang\u001b[38;5;132;01m}\u001b[39;00m\u001b[38;5;124m/\u001b[39m\u001b[38;5;124m\"\u001b[39m)\n\u001b[0;32m    274\u001b[0m     \u001b[38;5;28;01mwith\u001b[39;00m \u001b[38;5;28mopen\u001b[39m(loc \u001b[38;5;241m+\u001b[39m TAGGER_JSONS[lang][\u001b[38;5;124m\"\u001b[39m\u001b[38;5;124mweights\u001b[39m\u001b[38;5;124m\"\u001b[39m]) \u001b[38;5;28;01mas\u001b[39;00m fin:\n\u001b[0;32m    275\u001b[0m         \u001b[38;5;28mself\u001b[39m\u001b[38;5;241m.\u001b[39mmodel\u001b[38;5;241m.\u001b[39mweights \u001b[38;5;241m=\u001b[39m json\u001b[38;5;241m.\u001b[39mload(fin)\n",
      "File \u001b[1;32m~\\anaconda3\\Lib\\site-packages\\nltk\\data.py:579\u001b[0m, in \u001b[0;36mfind\u001b[1;34m(resource_name, paths)\u001b[0m\n\u001b[0;32m    577\u001b[0m sep \u001b[38;5;241m=\u001b[39m \u001b[38;5;124m\"\u001b[39m\u001b[38;5;124m*\u001b[39m\u001b[38;5;124m\"\u001b[39m \u001b[38;5;241m*\u001b[39m \u001b[38;5;241m70\u001b[39m\n\u001b[0;32m    578\u001b[0m resource_not_found \u001b[38;5;241m=\u001b[39m \u001b[38;5;124mf\u001b[39m\u001b[38;5;124m\"\u001b[39m\u001b[38;5;130;01m\\n\u001b[39;00m\u001b[38;5;132;01m{\u001b[39;00msep\u001b[38;5;132;01m}\u001b[39;00m\u001b[38;5;130;01m\\n\u001b[39;00m\u001b[38;5;132;01m{\u001b[39;00mmsg\u001b[38;5;132;01m}\u001b[39;00m\u001b[38;5;130;01m\\n\u001b[39;00m\u001b[38;5;132;01m{\u001b[39;00msep\u001b[38;5;132;01m}\u001b[39;00m\u001b[38;5;130;01m\\n\u001b[39;00m\u001b[38;5;124m\"\u001b[39m\n\u001b[1;32m--> 579\u001b[0m \u001b[38;5;28;01mraise\u001b[39;00m \u001b[38;5;167;01mLookupError\u001b[39;00m(resource_not_found)\n",
      "\u001b[1;31mLookupError\u001b[0m: \n**********************************************************************\n  Resource \u001b[93maveraged_perceptron_tagger_eng\u001b[0m not found.\n  Please use the NLTK Downloader to obtain the resource:\n\n  \u001b[31m>>> import nltk\n  >>> nltk.download('averaged_perceptron_tagger_eng')\n  \u001b[0m\n  For more information see: https://www.nltk.org/data.html\n\n  Attempted to load \u001b[93mtaggers/averaged_perceptron_tagger_eng/\u001b[0m\n\n  Searched in:\n    - 'C:\\\\Users\\\\ASUS/nltk_data'\n    - 'C:\\\\Users\\\\ASUS\\\\anaconda3\\\\nltk_data'\n    - 'C:\\\\Users\\\\ASUS\\\\anaconda3\\\\share\\\\nltk_data'\n    - 'C:\\\\Users\\\\ASUS\\\\anaconda3\\\\lib\\\\nltk_data'\n    - 'C:\\\\Users\\\\ASUS\\\\AppData\\\\Roaming\\\\nltk_data'\n    - 'C:\\\\nltk_data'\n    - 'D:\\\\nltk_data'\n    - 'E:\\\\nltk_data'\n**********************************************************************\n"
     ]
    }
   ],
   "source": [
    "import nltk\n",
    "from nltk.tokenize import word_tokenize  # Importing the function to split text into words (tokens)\n",
    "from nltk.corpus import stopwords  # Importing the list of common stopwords\n",
    "from nltk.stem import PorterStemmer  # Importing Porter Stemmer for stemming words\n",
    "from nltk.stem import WordNetLemmatizer  # Importing WordNet Lemmatizer for lemmatizing words\n",
    "from sklearn.feature_extraction.text import TfidfVectorizer  # Importing TfidfVectorizer to calculate TF-IDF\n",
    "\n",
    "# Download necessary NLTK data for tokenization, stopwords, POS tagging, and lemmatization\n",
    "nltk.download('punkt')  # For tokenizing words in the text\n",
    "nltk.download('stopwords')  # For removing stopwords (common words like 'the', 'is', 'and')\n",
    "nltk.download('averaged_perceptron_tagger')  # For Part of Speech (POS) tagging\n",
    "nltk.download('wordnet')  # For Lemmatization (reducing words to their dictionary form)\n",
    "\n",
    "# Step 1: Read the content from the SpaceX.txt file\n",
    "file_path = r\"C:\\Users\\ASUS\\Documents\\pythonStack\\DS_PR\\SpaceX.txt\"  # Path to the text file\n",
    "\n",
    "# Open and read the file\n",
    "with open(file_path, 'r', encoding='utf-8') as file:  # Open file in read mode\n",
    "    document = file.read()  # Read all the content of the file into a string\n",
    "\n",
    "# Step 2: Tokenization\n",
    "# Tokenization is the process of splitting text into individual words or tokens\n",
    "tokens = word_tokenize(document)  # Tokenizing the content of the document\n",
    "print(\"Tokens:\", tokens)  # Print the list of tokens (individual words)\n",
    "\n",
    "# Step 3: POS Tagging\n",
    "# POS tagging labels each token with its part of speech (e.g., noun, verb, etc.)\n",
    "pos_tags = nltk.pos_tag(tokens)  # Get the part of speech tags for each token\n",
    "print(\"POS Tags:\", pos_tags)  # Print each token with its POS tag\n",
    "\n",
    "# Step 4: Stop Words Removal\n",
    "# Stop words are common words like 'the', 'is', 'in', which do not carry meaningful information\n",
    "stop_words = set(stopwords.words('english'))  # Get a set of English stopwords\n",
    "# Filter out the stop words from the tokens\n",
    "filtered_tokens = [word for word in tokens if word.lower() not in stop_words]\n",
    "print(\"Filtered Tokens (Stop Words Removed):\", filtered_tokens)  # Print tokens after removing stop words\n",
    "\n",
    "# Step 5: Stemming\n",
    "# Stemming is the process of reducing words to their root form (e.g., 'running' -> 'run')\n",
    "stemmer = PorterStemmer()  # Initialize the Porter Stemmer\n",
    "# Apply the stemming process to each filtered token\n",
    "stemmed_tokens = [stemmer.stem(word) for word in filtered_tokens]\n",
    "print(\"Stemmed Tokens:\", stemmed_tokens)  # Print the stemmed tokens\n",
    "\n",
    "# Step 6: Lemmatization\n",
    "# Lemmatization reduces words to their base or dictionary form (e.g., 'better' -> 'good')\n",
    "lemmatizer = WordNetLemmatizer()  # Initialize the Lemmatizer\n",
    "# Apply lemmatization to each filtered token\n",
    "lemmatized_tokens = [lemmatizer.lemmatize(word) for word in filtered_tokens]\n",
    "print(\"Lemmatized Tokens:\", lemmatized_tokens)  # Print the lemmatized tokens\n",
    "\n",
    "# Step 7: Term Frequency (TF) and Inverse Document Frequency (IDF)\n",
    "# TF-IDF is a statistic that reflects the importance of a word in a document within a corpus\n",
    "vectorizer = TfidfVectorizer()  # Initialize the TfidfVectorizer\n",
    "# Fit the vectorizer to the document and transform it into a matrix of TF-IDF values\n",
    "X = vectorizer.fit_transform([document])\n",
    "\n",
    "# Display the TF-IDF scores for each word in the document\n",
    "print(\"TF-IDF Scores:\")\n",
    "for word, idx in vectorizer.vocabulary_.items():  # Iterate through each word in the vocabulary\n",
    "    print(f\"{word}: {X[0, idx]}\")  # Print the word and its corresponding TF-IDF score\n",
    "\n"
   ]
  },
  {
   "cell_type": "code",
   "execution_count": null,
   "id": "ce23e8f5-ff1c-4da1-b465-24b9b7250f7a",
   "metadata": {},
   "outputs": [],
   "source": []
  }
 ],
 "metadata": {
  "kernelspec": {
   "display_name": "Python [conda env:base] *",
   "language": "python",
   "name": "conda-base-py"
  },
  "language_info": {
   "codemirror_mode": {
    "name": "ipython",
    "version": 3
   },
   "file_extension": ".py",
   "mimetype": "text/x-python",
   "name": "python",
   "nbconvert_exporter": "python",
   "pygments_lexer": "ipython3",
   "version": "3.12.7"
  }
 },
 "nbformat": 4,
 "nbformat_minor": 5
}
