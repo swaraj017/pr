{
 "cells": [
  {
   "cell_type": "code",
   "execution_count": 3,
   "id": "46e0317f-dc2c-40a1-a3c2-ceaf9b63c0d9",
   "metadata": {},
   "outputs": [],
   "source": [
    "import numpy as np\n",
    "import pandas as pd\n",
    "import matplotlib as plt"
   ]
  },
  {
   "cell_type": "code",
   "execution_count": 5,
   "id": "3ab9fe4d-03c0-4e08-b22f-89dc1e954b99",
   "metadata": {},
   "outputs": [],
   "source": [
    "df=pd.read_csv(r\"C:\\Users\\ASUS\\Documents\\pythonStack\\DS_PR\\3_employees.csv\");"
   ]
  },
  {
   "cell_type": "code",
   "execution_count": 11,
   "id": "83291ca5-90ca-4710-8598-ece14064b691",
   "metadata": {},
   "outputs": [
    {
     "data": {
      "text/html": [
       "<div>\n",
       "<style scoped>\n",
       "    .dataframe tbody tr th:only-of-type {\n",
       "        vertical-align: middle;\n",
       "    }\n",
       "\n",
       "    .dataframe tbody tr th {\n",
       "        vertical-align: top;\n",
       "    }\n",
       "\n",
       "    .dataframe thead th {\n",
       "        text-align: right;\n",
       "    }\n",
       "</style>\n",
       "<table border=\"1\" class=\"dataframe\">\n",
       "  <thead>\n",
       "    <tr style=\"text-align: right;\">\n",
       "      <th></th>\n",
       "      <th>EMPLOYEE_ID</th>\n",
       "      <th>FIRST_NAME</th>\n",
       "      <th>LAST_NAME</th>\n",
       "      <th>EMAIL</th>\n",
       "      <th>PHONE_NUMBER</th>\n",
       "      <th>HIRE_DATE</th>\n",
       "      <th>JOB_ID</th>\n",
       "      <th>SALARY</th>\n",
       "      <th>COMMISSION_PCT</th>\n",
       "      <th>MANAGER_ID</th>\n",
       "      <th>DEPARTMENT_ID</th>\n",
       "    </tr>\n",
       "  </thead>\n",
       "  <tbody>\n",
       "    <tr>\n",
       "      <th>0</th>\n",
       "      <td>198</td>\n",
       "      <td>Donald</td>\n",
       "      <td>OConnell</td>\n",
       "      <td>DOCONNEL</td>\n",
       "      <td>650.507.9833</td>\n",
       "      <td>21-JUN-07</td>\n",
       "      <td>SH_CLERK</td>\n",
       "      <td>2600</td>\n",
       "      <td>-</td>\n",
       "      <td>124</td>\n",
       "      <td>50</td>\n",
       "    </tr>\n",
       "    <tr>\n",
       "      <th>1</th>\n",
       "      <td>199</td>\n",
       "      <td>Douglas</td>\n",
       "      <td>Grant</td>\n",
       "      <td>DGRANT</td>\n",
       "      <td>650.507.9844</td>\n",
       "      <td>13-JAN-08</td>\n",
       "      <td>SH_CLERK</td>\n",
       "      <td>2600</td>\n",
       "      <td>-</td>\n",
       "      <td>124</td>\n",
       "      <td>50</td>\n",
       "    </tr>\n",
       "    <tr>\n",
       "      <th>2</th>\n",
       "      <td>200</td>\n",
       "      <td>Jennifer</td>\n",
       "      <td>Whalen</td>\n",
       "      <td>JWHALEN</td>\n",
       "      <td>515.123.4444</td>\n",
       "      <td>17-SEP-03</td>\n",
       "      <td>AD_ASST</td>\n",
       "      <td>4400</td>\n",
       "      <td>-</td>\n",
       "      <td>101</td>\n",
       "      <td>10</td>\n",
       "    </tr>\n",
       "    <tr>\n",
       "      <th>3</th>\n",
       "      <td>201</td>\n",
       "      <td>Michael</td>\n",
       "      <td>Hartstein</td>\n",
       "      <td>MHARTSTE</td>\n",
       "      <td>515.123.5555</td>\n",
       "      <td>17-FEB-04</td>\n",
       "      <td>MK_MAN</td>\n",
       "      <td>13000</td>\n",
       "      <td>-</td>\n",
       "      <td>100</td>\n",
       "      <td>20</td>\n",
       "    </tr>\n",
       "    <tr>\n",
       "      <th>4</th>\n",
       "      <td>202</td>\n",
       "      <td>Pat</td>\n",
       "      <td>Fay</td>\n",
       "      <td>PFAY</td>\n",
       "      <td>603.123.6666</td>\n",
       "      <td>17-AUG-05</td>\n",
       "      <td>MK_REP</td>\n",
       "      <td>6000</td>\n",
       "      <td>-</td>\n",
       "      <td>201</td>\n",
       "      <td>20</td>\n",
       "    </tr>\n",
       "  </tbody>\n",
       "</table>\n",
       "</div>"
      ],
      "text/plain": [
       "   EMPLOYEE_ID FIRST_NAME  LAST_NAME     EMAIL  PHONE_NUMBER  HIRE_DATE  \\\n",
       "0          198     Donald   OConnell  DOCONNEL  650.507.9833  21-JUN-07   \n",
       "1          199    Douglas      Grant    DGRANT  650.507.9844  13-JAN-08   \n",
       "2          200   Jennifer     Whalen   JWHALEN  515.123.4444  17-SEP-03   \n",
       "3          201    Michael  Hartstein  MHARTSTE  515.123.5555  17-FEB-04   \n",
       "4          202        Pat        Fay      PFAY  603.123.6666  17-AUG-05   \n",
       "\n",
       "     JOB_ID  SALARY COMMISSION_PCT MANAGER_ID  DEPARTMENT_ID  \n",
       "0  SH_CLERK    2600             -         124             50  \n",
       "1  SH_CLERK    2600             -         124             50  \n",
       "2   AD_ASST    4400             -         101             10  \n",
       "3    MK_MAN   13000             -         100             20  \n",
       "4    MK_REP    6000             -         201             20  "
      ]
     },
     "execution_count": 11,
     "metadata": {},
     "output_type": "execute_result"
    }
   ],
   "source": [
    "df.head()"
   ]
  },
  {
   "cell_type": "code",
   "execution_count": 13,
   "id": "fe580a3e-fd4a-4410-be40-abe9a1db832a",
   "metadata": {},
   "outputs": [
    {
     "data": {
      "text/plain": [
       "EMPLOYEE_ID       0\n",
       "FIRST_NAME        0\n",
       "LAST_NAME         0\n",
       "EMAIL             0\n",
       "PHONE_NUMBER      0\n",
       "HIRE_DATE         0\n",
       "JOB_ID            0\n",
       "SALARY            0\n",
       "COMMISSION_PCT    0\n",
       "MANAGER_ID        0\n",
       "DEPARTMENT_ID     0\n",
       "dtype: int64"
      ]
     },
     "execution_count": 13,
     "metadata": {},
     "output_type": "execute_result"
    }
   ],
   "source": [
    "df.isnull().sum()"
   ]
  },
  {
   "cell_type": "code",
   "execution_count": 19,
   "id": "1583f453-ee56-4217-bf68-b550948492ba",
   "metadata": {},
   "outputs": [
    {
     "data": {
      "text/plain": [
       "EMPLOYEE_ID        int64\n",
       "FIRST_NAME        object\n",
       "LAST_NAME         object\n",
       "EMAIL             object\n",
       "PHONE_NUMBER      object\n",
       "HIRE_DATE         object\n",
       "JOB_ID            object\n",
       "SALARY             int64\n",
       "COMMISSION_PCT    object\n",
       "MANAGER_ID        object\n",
       "DEPARTMENT_ID      int64\n",
       "dtype: object"
      ]
     },
     "execution_count": 19,
     "metadata": {},
     "output_type": "execute_result"
    }
   ],
   "source": [
    "df.dtypes"
   ]
  },
  {
   "cell_type": "code",
   "execution_count": 21,
   "id": "85066c3c-8063-4e3e-a253-1603c1bdf66b",
   "metadata": {},
   "outputs": [
    {
     "data": {
      "text/plain": [
       "(50, 11)"
      ]
     },
     "execution_count": 21,
     "metadata": {},
     "output_type": "execute_result"
    }
   ],
   "source": [
    "df.shape"
   ]
  },
  {
   "cell_type": "code",
   "execution_count": 25,
   "id": "fe3c9fba-f1f3-4277-9a45-cb57fd8c30d0",
   "metadata": {},
   "outputs": [],
   "source": [
    "df['HIRE_DATE'] = pd.to_datetime(df['HIRE_DATE'])"
   ]
  },
  {
   "cell_type": "code",
   "execution_count": 29,
   "id": "6877fb59-ed18-4469-bffa-a2dbeea6cd27",
   "metadata": {},
   "outputs": [
    {
     "data": {
      "text/plain": [
       "0    2007-06-21\n",
       "1    2008-01-13\n",
       "2    2003-09-17\n",
       "3    2004-02-17\n",
       "4    2005-08-17\n",
       "5    2002-06-07\n",
       "6    2002-06-07\n",
       "7    2002-06-07\n",
       "8    2002-06-07\n",
       "9    2003-06-17\n",
       "10   2005-09-21\n",
       "11   2001-01-13\n",
       "12   2006-01-03\n",
       "13   2007-05-21\n",
       "14   2005-06-25\n",
       "15   2006-02-05\n",
       "16   2007-02-07\n",
       "17   2002-08-17\n",
       "18   2002-08-16\n",
       "19   2005-09-28\n",
       "20   2005-09-30\n",
       "21   2006-03-07\n",
       "22   2007-12-07\n",
       "23   2002-12-07\n",
       "24   2003-05-18\n",
       "25   2005-12-24\n",
       "26   2005-07-24\n",
       "27   2006-11-15\n",
       "28   2007-08-10\n",
       "29   2004-07-18\n",
       "30   2005-04-10\n",
       "31   2003-05-01\n",
       "32   2005-10-10\n",
       "33   2007-11-16\n",
       "34   2005-07-16\n",
       "35   2006-09-28\n",
       "36   2007-01-14\n",
       "37   2008-03-08\n",
       "38   2005-08-20\n",
       "39   2005-10-30\n",
       "40   2005-02-16\n",
       "41   2007-04-10\n",
       "42   2004-06-14\n",
       "43   2006-08-26\n",
       "44   2007-12-12\n",
       "45   2008-02-06\n",
       "46   2003-07-14\n",
       "47   2005-10-26\n",
       "48   2006-02-12\n",
       "49   2006-04-06\n",
       "Name: HIRE_DATE, dtype: datetime64[ns]"
      ]
     },
     "execution_count": 29,
     "metadata": {},
     "output_type": "execute_result"
    }
   ],
   "source": [
    "df['HIRE_DATE']"
   ]
  },
  {
   "cell_type": "code",
   "execution_count": 35,
   "id": "8f6a072c-b834-44a8-ab21-67b6ee5bb31e",
   "metadata": {},
   "outputs": [],
   "source": [
    "df['COMMISSION_PCT'] = pd.to_numeric(df['COMMISSION_PCT'], errors='coerce')"
   ]
  },
  {
   "cell_type": "code",
   "execution_count": 41,
   "id": "13e56b78-92f0-4c25-904e-809ab52229e5",
   "metadata": {},
   "outputs": [],
   "source": [
    "from scipy.stats import zscore\n",
    "import seaborn as sns\n",
    "import matplotlib.pyplot as plt"
   ]
  },
  {
   "cell_type": "code",
   "execution_count": 45,
   "id": "6ffa01bc-9088-4d22-a21e-9c89d81de38d",
   "metadata": {},
   "outputs": [],
   "source": [
    "SALARY_Zs = zscore(df['SALARY'])\n"
   ]
  },
  {
   "cell_type": "code",
   "execution_count": 75,
   "id": "a0338d9e-8e69-4d41-a6b1-b6e13852b37e",
   "metadata": {},
   "outputs": [
    {
     "data": {
      "text/plain": [
       "0"
      ]
     },
     "execution_count": 75,
     "metadata": {},
     "output_type": "execute_result"
    }
   ],
   "source": [
    "(df['SALARY']==5000).sum()"
   ]
  },
  {
   "cell_type": "code",
   "execution_count": 63,
   "id": "7c605f18-8fad-40ea-a67a-8fa9a4635efa",
   "metadata": {},
   "outputs": [
    {
     "data": {
      "image/png": "[encoded data removed]",
      "text/plain": [
       "<Figure size 640x480 with 1 Axes>"
      ]
     },
     "metadata": {},
     "output_type": "display_data"
    }
   ],
   "source": [
    "sns.boxplot(data=df[['SALARY', 'SALARY_Zs']])\n",
    "plt.title(\"Original vs Z-Score Normalized Salary\")\n",
    "plt.show()\n"
   ]
  },
  {
   "cell_type": "code",
   "execution_count": null,
   "id": "c67d613f-7089-49db-b646-d2ef7aecdc85",
   "metadata": {},
   "outputs": [],
   "source": []
  }
 ],
 "metadata": {
  "kernelspec": {
   "display_name": "Python [conda env:base] *",
   "language": "python",
   "name": "conda-base-py"
  },
  "language_info": {
   "codemirror_mode": {
    "name": "ipython",
    "version": 3
   },
   "file_extension": ".py",
   "mimetype": "text/x-python",
   "name": "python",
   "nbconvert_exporter": "python",
   "pygments_lexer": "ipython3",
   "version": "3.12.7"
  }
 },
 "nbformat": 4,
 "nbformat_minor": 5
}
