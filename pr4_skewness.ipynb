{
 "cells": [
  {
   "cell_type": "code",
   "execution_count": 150,
   "id": "5ed23777-54d2-46e8-aae7-b8801ddd352c",
   "metadata": {},
   "outputs": [],
   "source": [
    "import numpy as np\n",
    "import pandas as pd\n",
    "import matplotlib.pyplot  as plt\n",
    "import seaborn as sns"
   ]
  },
  {
   "cell_type": "code",
   "execution_count": 3,
   "id": "a30e2c1d-6c51-4314-8756-bb6c4d83e7fd",
   "metadata": {},
   "outputs": [],
   "source": [
    "df=pd.read_csv(r\"C:\\Users\\ASUS\\Documents\\pythonStack\\DS_PR\\AcademicPerformance_New.csv\")"
   ]
  },
  {
   "cell_type": "code",
   "execution_count": 5,
   "id": "38ad1f7f-09b5-4655-a5e1-63ab1e5ec096",
   "metadata": {},
   "outputs": [
    {
     "data": {
      "text/html": [
       "<div>\n",
       "<style scoped>\n",
       "    .dataframe tbody tr th:only-of-type {\n",
       "        vertical-align: middle;\n",
       "    }\n",
       "\n",
       "    .dataframe tbody tr th {\n",
       "        vertical-align: top;\n",
       "    }\n",
       "\n",
       "    .dataframe thead th {\n",
       "        text-align: right;\n",
       "    }\n",
       "</style>\n",
       "<table border=\"1\" class=\"dataframe\">\n",
       "  <thead>\n",
       "    <tr style=\"text-align: right;\">\n",
       "      <th></th>\n",
       "      <th>Roll No</th>\n",
       "      <th>NationalITy</th>\n",
       "      <th>WT</th>\n",
       "      <th>DSBDA</th>\n",
       "      <th>AI</th>\n",
       "      <th>Average</th>\n",
       "      <th>Grade</th>\n",
       "      <th>PG</th>\n",
       "    </tr>\n",
       "  </thead>\n",
       "  <tbody>\n",
       "    <tr>\n",
       "      <th>0</th>\n",
       "      <td>1.0</td>\n",
       "      <td>India</td>\n",
       "      <td>72.0</td>\n",
       "      <td>72.0</td>\n",
       "      <td>74.0</td>\n",
       "      <td>72.666667</td>\n",
       "      <td>C</td>\n",
       "      <td>Yes</td>\n",
       "    </tr>\n",
       "    <tr>\n",
       "      <th>1</th>\n",
       "      <td>2.0</td>\n",
       "      <td>Japan</td>\n",
       "      <td>69.0</td>\n",
       "      <td>90.0</td>\n",
       "      <td>NaN</td>\n",
       "      <td>53.000000</td>\n",
       "      <td>B</td>\n",
       "      <td>No</td>\n",
       "    </tr>\n",
       "    <tr>\n",
       "      <th>2</th>\n",
       "      <td>NaN</td>\n",
       "      <td>NaN</td>\n",
       "      <td>NaN</td>\n",
       "      <td>NaN</td>\n",
       "      <td>NaN</td>\n",
       "      <td>NaN</td>\n",
       "      <td>NaN</td>\n",
       "      <td>NaN</td>\n",
       "    </tr>\n",
       "    <tr>\n",
       "      <th>3</th>\n",
       "      <td>4.0</td>\n",
       "      <td>China</td>\n",
       "      <td>47.0</td>\n",
       "      <td>NaN</td>\n",
       "      <td>44.0</td>\n",
       "      <td>30.333333</td>\n",
       "      <td>D</td>\n",
       "      <td>Yes</td>\n",
       "    </tr>\n",
       "    <tr>\n",
       "      <th>4</th>\n",
       "      <td>5.0</td>\n",
       "      <td>India</td>\n",
       "      <td>76.0</td>\n",
       "      <td>78.0</td>\n",
       "      <td>NaN</td>\n",
       "      <td>51.333333</td>\n",
       "      <td>C</td>\n",
       "      <td>No</td>\n",
       "    </tr>\n",
       "  </tbody>\n",
       "</table>\n",
       "</div>"
      ],
      "text/plain": [
       "   Roll No NationalITy    WT  DSBDA    AI    Average Grade   PG\n",
       "0      1.0       India  72.0   72.0  74.0  72.666667     C  Yes\n",
       "1      2.0       Japan  69.0   90.0   NaN  53.000000     B   No\n",
       "2      NaN         NaN   NaN    NaN   NaN        NaN   NaN  NaN\n",
       "3      4.0       China  47.0    NaN  44.0  30.333333     D  Yes\n",
       "4      5.0       India  76.0   78.0   NaN  51.333333     C   No"
      ]
     },
     "execution_count": 5,
     "metadata": {},
     "output_type": "execute_result"
    }
   ],
   "source": [
    "df.head()"
   ]
  },
  {
   "cell_type": "code",
   "execution_count": 18,
   "id": "879f13e0-d3b0-4557-ac22-46223e478229",
   "metadata": {},
   "outputs": [
    {
     "name": "stdout",
     "output_type": "stream",
     "text": [
      "1\n",
      "1\n"
     ]
    }
   ],
   "source": [
    "for i in ['Average','Grade']:\n",
    "    print(df[i].isnull().sum())"
   ]
  },
  {
   "cell_type": "code",
   "execution_count": 34,
   "id": "825ca7b8-8c36-4ec0-b24d-2a9205f0f581",
   "metadata": {},
   "outputs": [
    {
     "data": {
      "text/plain": [
       "0"
      ]
     },
     "execution_count": 34,
     "metadata": {},
     "output_type": "execute_result"
    }
   ],
   "source": [
    "df['Average'] = df['Average'].fillna(df['Average'].median())"
   ]
  },
  {
   "cell_type": "code",
   "execution_count": 60,
   "id": "961b9d28-fda1-4d3f-9e13-ade33f542778",
   "metadata": {},
   "outputs": [
    {
     "name": "stdout",
     "output_type": "stream",
     "text": [
      "0\n"
     ]
    }
   ],
   "source": [
    "df['Grade']=df['Grade'].fillna(df['Grade'].mode()[0])\n",
    "print(df['Grade'].isnull().sum())"
   ]
  },
  {
   "cell_type": "code",
   "execution_count": 56,
   "id": "7566688a-982c-4daa-9e2e-0897170fcb68",
   "metadata": {},
   "outputs": [],
   "source": [
    "q1=df['DSBDA'].quantile(0.25)"
   ]
  },
  {
   "cell_type": "code",
   "execution_count": 54,
   "id": "e5cecf81-14fb-4390-8058-2298421641e5",
   "metadata": {},
   "outputs": [],
   "source": [
    "q3=df['DSBDA'].quantile(0.75)"
   ]
  },
  {
   "cell_type": "code",
   "execution_count": 104,
   "id": "cf4f9699-33e1-4887-85e1-af6800d438b6",
   "metadata": {},
   "outputs": [],
   "source": [
    "IQR= q1-q3"
   ]
  },
  {
   "cell_type": "code",
   "execution_count": 108,
   "id": "666d0591-c868-4215-bef7-cc89e8a9adfd",
   "metadata": {},
   "outputs": [],
   "source": [
    "lower=q1-1.5 * IQR,\n",
    "upper=q3+1.5 * IQR"
   ]
  },
  {
   "cell_type": "code",
   "execution_count": 122,
   "id": "388173ff-c8e0-422e-ab12-b4802aa769f8",
   "metadata": {},
   "outputs": [],
   "source": [
    "df['DSBDA']=df['DSBDA'].between(lower,upper)"
   ]
  },
  {
   "cell_type": "code",
   "execution_count": 124,
   "id": "36c91d8e-02f5-4e05-991c-3b4f54a814f2",
   "metadata": {},
   "outputs": [
    {
     "data": {
      "text/plain": [
       "0    False\n",
       "1    False\n",
       "2    False\n",
       "3    False\n",
       "4    False\n",
       "Name: DSBDA, dtype: bool"
      ]
     },
     "execution_count": 124,
     "metadata": {},
     "output_type": "execute_result"
    }
   ],
   "source": [
    "df['DSBDA'].head()"
   ]
  },
  {
   "cell_type": "code",
   "execution_count": 126,
   "id": "6380a023-0176-4a18-831c-84d67f72e5fa",
   "metadata": {},
   "outputs": [],
   "source": [
    "max_value = df['AI'].max()\n",
    "avg_value = df['AI'].mean()"
   ]
  },
  {
   "cell_type": "code",
   "execution_count": 132,
   "id": "5f99c706-6b33-456c-94a3-439bec0ac5cc",
   "metadata": {},
   "outputs": [
    {
     "data": {
      "text/plain": [
       "(92.0, 62.0)"
      ]
     },
     "execution_count": 132,
     "metadata": {},
     "output_type": "execute_result"
    }
   ],
   "source": [
    "max_value,avg_value.round()"
   ]
  },
  {
   "cell_type": "code",
   "execution_count": 134,
   "id": "7b0e9ca1-25e0-4e5b-83f7-92847fc1a31b",
   "metadata": {},
   "outputs": [],
   "source": [
    "skewness = df['AI'].skew()"
   ]
  },
  {
   "cell_type": "code",
   "execution_count": 136,
   "id": "6102fe01-1d90-4390-92e3-34be1d87de62",
   "metadata": {},
   "outputs": [
    {
     "data": {
      "text/plain": [
       "-0.4738634917855504"
      ]
     },
     "execution_count": 136,
     "metadata": {},
     "output_type": "execute_result"
    }
   ],
   "source": [
    "skewness"
   ]
  },
  {
   "cell_type": "code",
   "execution_count": 190,
   "id": "ec76a2ca-d315-44a8-9763-b347940a8074",
   "metadata": {},
   "outputs": [
    {
     "data": {
      "image/png": "[encoded data removed]",
      "text/plain": [
       "<Figure size 640x480 with 1 Axes>"
      ]
     },
     "metadata": {},
     "output_type": "display_data"
    }
   ],
   "source": [
    "plt.scatter(df.index, df['WT'], color='red', label='WT Marks')\n",
    "plt.scatter(df.index, df['AI'], color='yellow', label='AI Marks')\n",
    "plt.grid(True)"
   ]
  },
  {
   "cell_type": "code",
   "execution_count": null,
   "id": "faec6602-513c-4849-bda7-c5e6054e19d8",
   "metadata": {},
   "outputs": [],
   "source": []
  }
 ],
 "metadata": {
  "kernelspec": {
   "display_name": "Python [conda env:base] *",
   "language": "python",
   "name": "conda-base-py"
  },
  "language_info": {
   "codemirror_mode": {
    "name": "ipython",
    "version": 3
   },
   "file_extension": ".py",
   "mimetype": "text/x-python",
   "name": "python",
   "nbconvert_exporter": "python",
   "pygments_lexer": "ipython3",
   "version": "3.12.7"
  }
 },
 "nbformat": 4,
 "nbformat_minor": 5
}
